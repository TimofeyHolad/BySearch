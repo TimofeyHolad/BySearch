{
 "cells": [
  {
   "cell_type": "markdown",
   "metadata": {},
   "source": [
    "## BySearch\n",
    "BySearch package implements light and effective semantic search pipelines in a simple API by combining modern vector storages with lightweight open-source language models.\n",
    "\n",
    "My goal is to create approachable and simple solution that would help developers, who are not familiar with NLP models and technologies, to easily build and implement into their projects their mother tongue semantic search engines.  "
   ]
  },
  {
   "cell_type": "code",
   "execution_count": 1,
   "metadata": {},
   "outputs": [
    {
     "name": "stderr",
     "output_type": "stream",
     "text": [
      "c:\\Users\\tihol\\Projects\\PyProjects\\BySearch\\.venv\\Lib\\site-packages\\tqdm\\auto.py:21: TqdmWarning: IProgress not found. Please update jupyter and ipywidgets. See https://ipywidgets.readthedocs.io/en/stable/user_install.html\n",
      "  from .autonotebook import tqdm as notebook_tqdm\n"
     ]
    }
   ],
   "source": [
    "from datasets import load_dataset\n",
    "import pandas as pd\n",
    "\n",
    "from bysearch import Engine\n",
    "from bysearch.pipelines import HuggingFacePipeline, ONNXPipeline\n",
    "from bysearch.backends import DatasetBackend, PineconeBackend, ChromaBackend "
   ]
  },
  {
   "cell_type": "markdown",
   "metadata": {},
   "source": [
    "Let's take an example with belarusian texts.\n",
    "\n",
    "Main class of the package is Engine class. It organizes whole dataflow starting with row texts and finishing with vector storages. Engine manages other modules converting texts into text embeddings and carrying out communication with chosen vector storage. Engine class provides unified API, that for this moment supports upsert texts collections, search by prompt and delete by ID methods, for any different models and vector storages.\n",
    "\n",
    "Engine needs two components:\n",
    "1. EmbeddingPipeline for text embeddings generation.\n",
    "2. DataBackend for communication with vector storage.\n",
    "\n",
    "Upserted text collection should be wrapped into Pandas DataFrame or into Hugging Face Dataset.\n",
    "\n",
    "Let't take a look on DataBackend classes. For this moment BySearch package implements backends for Pinecone and Chroma storages and also simple local backend based on Hagging Face datasets. There is two common required parameters for any backends: text_column_name and id_colum_name that should respectively contain text and id column names both for the input collection and for the vector storage. Other parameters are different for each backend, they are used to establish connection with corresponding vector storage. DataBackend classes provide connection with existing vector storages or crate storages and then connect to it otherwise. "
   ]
  },
  {
   "cell_type": "code",
   "execution_count": 2,
   "metadata": {},
   "outputs": [],
   "source": [
    "# Simple local backend based on Hugging Face datasets.\n",
    "# Upserted data will be stored in your RAM inside a pythons session.\n",
    "# Don't support delete operation, don't track copies during upsert operation.\n",
    "# Recommended to use only during tests.\n",
    "# backend = DatasetBackend(\n",
    "#     text_column_name='text', \n",
    "#     id_column_name='id'\n",
    "# )\n",
    "\n",
    "# Backend for communication with a Pinecone storage.\n",
    "# Pinecone is commercial closed-source storage with access through API.\n",
    "# backend = PineconeBackend(\n",
    "#     text_column_name='text', \n",
    "#     id_column_name='id', \n",
    "#     api_key='your key', \n",
    "#     environment ='gcp-starter', \n",
    "#     index_name='your index name'\n",
    "# )\n",
    "\n",
    "# Backend for communication with a Chroma storage.\n",
    "# Chroma is an open-source database that supports RAM storage, disk storage and server storage. \n",
    "backend = ChromaBackend(\n",
    "    text_column_name='text', \n",
    "    id_column_name='id', \n",
    "    type='persistent', \n",
    "    collection_name='by-embeddings'\n",
    ")"
   ]
  },
  {
   "cell_type": "markdown",
   "metadata": {},
   "source": [
    "Now let's get into EmbeddingPipeline classes. Pipelines generate text vector embeddings from input texts with help of deep text models. For this moment BySearch supports transformer models from Hugging Face hub (https://huggingface.co/models), models in ONNX format and also HuggingFace-ONNX converter for faster text processing.\n",
    "\n",
    "We will create RoBERTa based pipeline for belarusian texts.\n",
    "\n",
    "Choice of a model depends on languages supported by the model. You can use multilingual models that were trained for required languages or use specific language models.  "
   ]
  },
  {
   "cell_type": "code",
   "execution_count": 3,
   "metadata": {},
   "outputs": [
    {
     "name": "stderr",
     "output_type": "stream",
     "text": [
      "Some weights of RobertaModel were not initialized from the model checkpoint at KoichiYasuoka/roberta-small-belarusian and are newly initialized: ['roberta.pooler.dense.bias', 'roberta.pooler.dense.weight']\n",
      "You should probably TRAIN this model on a down-stream task to be able to use it for predictions and inference.\n"
     ]
    }
   ],
   "source": [
    "# HuggingFacePipeline implements text embeddings generation \n",
    "# using any text model from Hugging Face hub.\n",
    "# Recommended to use only during tests \n",
    "# if the model could be converted into ONNX format.\n",
    "# pipeline = HuggingFacePipeline(\n",
    "#     model='KoichiYasuoka/roberta-small-belarusian', \n",
    "#     max_context_length=127\n",
    "# )\n",
    "\n",
    "# ONNXPipeline implements texts embeddings generation\n",
    "# using any text embedding model in ONNX format.\n",
    "# ONNX models are optimized for fast inference, \n",
    "# so it should be a good option for long-term usage.\n",
    "# Also this pipeline has from_hugging_face method \n",
    "# that automatically converts Hugging Face models into ONNX format. \n",
    "pipeline = ONNXPipeline.from_hugging_face(\n",
    "    model='KoichiYasuoka/roberta-small-belarusian', \n",
    "    onnx_save_path='onnx\\\\model.onnx', \n",
    "    max_context_length=127, \n",
    "    dummy_input=['What is Lorem Ipsum?Lorem Ipsum is simply dummy text of the printing and typesetting industry. Lorem Ipsum has been the industrys standard dummy text ever since the 1500s, when an unknown printer took a galley of type and scrambled it to make a type specimen book. It has survived not only five centuries, but also the leap into electronic typesetting, remaining essentially unchanged. It was popularised in the 1960s with the release of Letraset sheets containing Lorem Ipsum passages, and more recently with desktop publishing software like Aldus PageMaker including versions of Lorem Ipsum. Why do we use it?It is a long established fact that a reader will be distracted by the readable content of a page when looking at its layout. The point of using Lorem Ipsum is that it has a more-or-less normal distribution of letters, as opposed to using, making it look like readable English. Many desktop publishing packages and web page editors now use Lorem Ipsum as their default model text, and a search for will uncover many web sites still in their infancy. Various versions have evolved over the years, sometimes by accident, sometimes on purpose (injected humour and the like).']\n",
    ")"
   ]
  },
  {
   "cell_type": "markdown",
   "metadata": {},
   "source": [
    "Prepare data from belarusian texts collection and create Engine."
   ]
  },
  {
   "cell_type": "code",
   "execution_count": 4,
   "metadata": {},
   "outputs": [
    {
     "name": "stderr",
     "output_type": "stream",
     "text": [
      "Parameter 'function'=<function Engine.load_dataset.<locals>.<lambda> at 0x00000172E1B26DE0> of the transform datasets.arrow_dataset.Dataset._map_single couldn't be hashed properly, a random hash was used instead. Make sure your transforms and parameters are serializable with pickle or dill for the dataset fingerprinting and caching to work. If you reuse this transform, the caching mechanism will consider it to be different from the previous calls and recompute everything. This warning is only showed once. Subsequent hashing failures won't be showed.\n",
      "Map: 100%|██████████| 1712/1712 [00:41<00:00, 41.22 examples/s]\n"
     ]
    }
   ],
   "source": [
    "# Data loading and id column insertion.\n",
    "# ID column could be any text metadata column,\n",
    "# but some storages, particularly Pinecone storage, have limits on length of ID values.\n",
    "dataset = load_dataset('mc4', 'be', split='validation')\n",
    "dataset = dataset.add_column('id', list(range(len(dataset))))\n",
    "# Engine creation from chosen pipeline and backend.\n",
    "# Dataset parameter isn't mandatory, dataset could be upserted into storage after initialization.\n",
    "search = Engine(dataset=dataset, pipeline=pipeline, backend=backend)"
   ]
  },
  {
   "cell_type": "markdown",
   "metadata": {},
   "source": [
    "Now we will perform search by prompt. Search operation outputs Pandas DataFrame with top-k most similar texts to prompt following format (similarity_score, id_column, text_column, *other_columns). Possible quality of the search depends on model size, text size and amount of different topics covered by each single text in text collection."
   ]
  },
  {
   "cell_type": "code",
   "execution_count": 5,
   "metadata": {},
   "outputs": [
    {
     "data": {
      "text/html": [
       "<div>\n",
       "<style scoped>\n",
       "    .dataframe tbody tr th:only-of-type {\n",
       "        vertical-align: middle;\n",
       "    }\n",
       "\n",
       "    .dataframe tbody tr th {\n",
       "        vertical-align: top;\n",
       "    }\n",
       "\n",
       "    .dataframe thead th {\n",
       "        text-align: right;\n",
       "    }\n",
       "</style>\n",
       "<table border=\"1\" class=\"dataframe\">\n",
       "  <thead>\n",
       "    <tr style=\"text-align: right;\">\n",
       "      <th></th>\n",
       "      <th>score</th>\n",
       "      <th>id</th>\n",
       "      <th>text</th>\n",
       "      <th>timestamp</th>\n",
       "      <th>url</th>\n",
       "    </tr>\n",
       "  </thead>\n",
       "  <tbody>\n",
       "    <tr>\n",
       "      <th>0</th>\n",
       "      <td>6.785421</td>\n",
       "      <td>901</td>\n",
       "      <td>﻿ Стаўленне да вайны — характарыстыка духоўнас...</td>\n",
       "      <td>2020-08-04T17:20:46Z</td>\n",
       "      <td>http://zviazda.by/be/news/20150508/1431035548-...</td>\n",
       "    </tr>\n",
       "    <tr>\n",
       "      <th>1</th>\n",
       "      <td>6.891847</td>\n",
       "      <td>77</td>\n",
       "      <td>Мікалай Якаўлевіч Нікіфароўскі — Вікіпедыя\\nМі...</td>\n",
       "      <td>2020-08-03T21:55:48Z</td>\n",
       "      <td>https://be.m.wikipedia.org/wiki/%D0%9C%D1%96%D...</td>\n",
       "    </tr>\n",
       "    <tr>\n",
       "      <th>2</th>\n",
       "      <td>7.098675</td>\n",
       "      <td>344</td>\n",
       "      <td>Арлоў Уладзімір, Айчына, частка першая - Белар...</td>\n",
       "      <td>2019-11-12T09:06:47Z</td>\n",
       "      <td>http://ww.w.kamunikat.org/katalohbht.html?pub_...</td>\n",
       "    </tr>\n",
       "    <tr>\n",
       "      <th>3</th>\n",
       "      <td>7.118645</td>\n",
       "      <td>1473</td>\n",
       "      <td>\"Беларусь 3\" ушануе памяць Валерыя Чкалава | Б...</td>\n",
       "      <td>2019-02-24T06:42:12Z</td>\n",
       "      <td>http://3belarus.by/be/news/belarus-3-ushanue-p...</td>\n",
       "    </tr>\n",
       "    <tr>\n",
       "      <th>4</th>\n",
       "      <td>7.238077</td>\n",
       "      <td>506</td>\n",
       "      <td>Прэзентацыя кнігі «Хуш Килесез — калі ласка!: ...</td>\n",
       "      <td>2019-02-17T06:57:53Z</td>\n",
       "      <td>http://mininform.gov.by/news/stuzhka-navin/pre...</td>\n",
       "    </tr>\n",
       "  </tbody>\n",
       "</table>\n",
       "</div>"
      ],
      "text/plain": [
       "      score    id                                               text  \\\n",
       "0  6.785421   901  ﻿ Стаўленне да вайны — характарыстыка духоўнас...   \n",
       "1  6.891847    77  Мікалай Якаўлевіч Нікіфароўскі — Вікіпедыя\\nМі...   \n",
       "2  7.098675   344  Арлоў Уладзімір, Айчына, частка першая - Белар...   \n",
       "3  7.118645  1473  \"Беларусь 3\" ушануе памяць Валерыя Чкалава | Б...   \n",
       "4  7.238077   506  Прэзентацыя кнігі «Хуш Килесез — калі ласка!: ...   \n",
       "\n",
       "              timestamp                                                url  \n",
       "0  2020-08-04T17:20:46Z  http://zviazda.by/be/news/20150508/1431035548-...  \n",
       "1  2020-08-03T21:55:48Z  https://be.m.wikipedia.org/wiki/%D0%9C%D1%96%D...  \n",
       "2  2019-11-12T09:06:47Z  http://ww.w.kamunikat.org/katalohbht.html?pub_...  \n",
       "3  2019-02-24T06:42:12Z  http://3belarus.by/be/news/belarus-3-ushanue-p...  \n",
       "4  2019-02-17T06:57:53Z  http://mininform.gov.by/news/stuzhka-navin/pre...  "
      ]
     },
     "execution_count": 5,
     "metadata": {},
     "output_type": "execute_result"
    }
   ],
   "source": [
    "rez = search.search('аповесць беларускага пісьменніка Уладзіміра Караткевіча', verbose=False)\n",
    "rez"
   ]
  },
  {
   "cell_type": "markdown",
   "metadata": {},
   "source": [
    "Let's delete texts from search output and again perform search with the same prompt.\n",
    "\n",
    "Warning: Pinecone remote backend has a storage update delay, for this reason operation results could be unavailable right after any operations. "
   ]
  },
  {
   "cell_type": "code",
   "execution_count": 6,
   "metadata": {},
   "outputs": [
    {
     "data": {
      "text/html": [
       "<div>\n",
       "<style scoped>\n",
       "    .dataframe tbody tr th:only-of-type {\n",
       "        vertical-align: middle;\n",
       "    }\n",
       "\n",
       "    .dataframe tbody tr th {\n",
       "        vertical-align: top;\n",
       "    }\n",
       "\n",
       "    .dataframe thead th {\n",
       "        text-align: right;\n",
       "    }\n",
       "</style>\n",
       "<table border=\"1\" class=\"dataframe\">\n",
       "  <thead>\n",
       "    <tr style=\"text-align: right;\">\n",
       "      <th></th>\n",
       "      <th>score</th>\n",
       "      <th>id</th>\n",
       "      <th>text</th>\n",
       "      <th>timestamp</th>\n",
       "      <th>url</th>\n",
       "    </tr>\n",
       "  </thead>\n",
       "  <tbody>\n",
       "    <tr>\n",
       "      <th>0</th>\n",
       "      <td>7.278406</td>\n",
       "      <td>408</td>\n",
       "      <td>Аляксей Белы адзначае юбілей\\nГалоўная » Навін...</td>\n",
       "      <td>2020-03-29T15:38:08Z</td>\n",
       "      <td>https://lit-bel.org/news/Alyaksey-Beli-adznach...</td>\n",
       "    </tr>\n",
       "    <tr>\n",
       "      <th>1</th>\n",
       "      <td>7.476275</td>\n",
       "      <td>1358</td>\n",
       "      <td>«Дарогамі Максіма Танка»\\nОпубликовано: 18.09....</td>\n",
       "      <td>2018-03-23T16:48:12Z</td>\n",
       "      <td>https://www.sb.by/articles/darogam-maks-ma-tan...</td>\n",
       "    </tr>\n",
       "    <tr>\n",
       "      <th>2</th>\n",
       "      <td>7.612226</td>\n",
       "      <td>544</td>\n",
       "      <td>Творчая сустрэча «Родны край, я цябе апяваю»\\n...</td>\n",
       "      <td>2019-12-12T14:06:21Z</td>\n",
       "      <td>http://kb.brl.by/index.php/home?view=featured</td>\n",
       "    </tr>\n",
       "    <tr>\n",
       "      <th>3</th>\n",
       "      <td>7.784564</td>\n",
       "      <td>120</td>\n",
       "      <td>Прэм'ера ''Смешныя людзі'' - 12.10.2018 - Наци...</td>\n",
       "      <td>2018-10-18T09:00:55Z</td>\n",
       "      <td>https://www.kvitki.by/rus/bileti/teatr/drama/p...</td>\n",
       "    </tr>\n",
       "    <tr>\n",
       "      <th>4</th>\n",
       "      <td>7.789008</td>\n",
       "      <td>56</td>\n",
       "      <td>Вязень лагера Дахау | Дзяннiца\\nГлавная Вязень...</td>\n",
       "      <td>2017-01-17T09:03:39Z</td>\n",
       "      <td>http://dzyannica.by/node/11144</td>\n",
       "    </tr>\n",
       "  </tbody>\n",
       "</table>\n",
       "</div>"
      ],
      "text/plain": [
       "      score    id                                               text  \\\n",
       "0  7.278406   408  Аляксей Белы адзначае юбілей\\nГалоўная » Навін...   \n",
       "1  7.476275  1358  «Дарогамі Максіма Танка»\\nОпубликовано: 18.09....   \n",
       "2  7.612226   544  Творчая сустрэча «Родны край, я цябе апяваю»\\n...   \n",
       "3  7.784564   120  Прэм'ера ''Смешныя людзі'' - 12.10.2018 - Наци...   \n",
       "4  7.789008    56  Вязень лагера Дахау | Дзяннiца\\nГлавная Вязень...   \n",
       "\n",
       "              timestamp                                                url  \n",
       "0  2020-03-29T15:38:08Z  https://lit-bel.org/news/Alyaksey-Beli-adznach...  \n",
       "1  2018-03-23T16:48:12Z  https://www.sb.by/articles/darogam-maks-ma-tan...  \n",
       "2  2019-12-12T14:06:21Z      http://kb.brl.by/index.php/home?view=featured  \n",
       "3  2018-10-18T09:00:55Z  https://www.kvitki.by/rus/bileti/teatr/drama/p...  \n",
       "4  2017-01-17T09:03:39Z                     http://dzyannica.by/node/11144  "
      ]
     },
     "execution_count": 6,
     "metadata": {},
     "output_type": "execute_result"
    }
   ],
   "source": [
    "search.delete(rez['id'].tolist())\n",
    "rez = search.search('аповесць беларускага пісьменніка Уладзіміра Караткевіча', verbose=False)\n",
    "rez"
   ]
  },
  {
   "cell_type": "markdown",
   "metadata": {},
   "source": [
    "Now we will upsert texts collection copy."
   ]
  },
  {
   "cell_type": "code",
   "execution_count": 7,
   "metadata": {},
   "outputs": [
    {
     "name": "stderr",
     "output_type": "stream",
     "text": [
      "Map: 100%|██████████| 1712/1712 [00:44<00:00, 38.80 examples/s]\n"
     ]
    },
    {
     "data": {
      "text/html": [
       "<div>\n",
       "<style scoped>\n",
       "    .dataframe tbody tr th:only-of-type {\n",
       "        vertical-align: middle;\n",
       "    }\n",
       "\n",
       "    .dataframe tbody tr th {\n",
       "        vertical-align: top;\n",
       "    }\n",
       "\n",
       "    .dataframe thead th {\n",
       "        text-align: right;\n",
       "    }\n",
       "</style>\n",
       "<table border=\"1\" class=\"dataframe\">\n",
       "  <thead>\n",
       "    <tr style=\"text-align: right;\">\n",
       "      <th></th>\n",
       "      <th>score</th>\n",
       "      <th>id</th>\n",
       "      <th>text</th>\n",
       "      <th>timestamp</th>\n",
       "      <th>url</th>\n",
       "    </tr>\n",
       "  </thead>\n",
       "  <tbody>\n",
       "    <tr>\n",
       "      <th>0</th>\n",
       "      <td>6.629228</td>\n",
       "      <td>1656</td>\n",
       "      <td>﻿ Новыя паступленні музея імя Суворава | А. М....</td>\n",
       "      <td>2017-08-18T16:34:45Z</td>\n",
       "      <td>http://ikobrin.ru/martinov-52.php</td>\n",
       "    </tr>\n",
       "    <tr>\n",
       "      <th>1</th>\n",
       "      <td>6.785421</td>\n",
       "      <td>901</td>\n",
       "      <td>﻿ Стаўленне да вайны — характарыстыка духоўнас...</td>\n",
       "      <td>2020-08-04T17:20:46Z</td>\n",
       "      <td>http://zviazda.by/be/news/20150508/1431035548-...</td>\n",
       "    </tr>\n",
       "    <tr>\n",
       "      <th>2</th>\n",
       "      <td>6.891847</td>\n",
       "      <td>77</td>\n",
       "      <td>Мікалай Якаўлевіч Нікіфароўскі — Вікіпедыя\\nМі...</td>\n",
       "      <td>2020-08-03T21:55:48Z</td>\n",
       "      <td>https://be.m.wikipedia.org/wiki/%D0%9C%D1%96%D...</td>\n",
       "    </tr>\n",
       "    <tr>\n",
       "      <th>3</th>\n",
       "      <td>7.098675</td>\n",
       "      <td>344</td>\n",
       "      <td>Арлоў Уладзімір, Айчына, частка першая - Белар...</td>\n",
       "      <td>2019-11-12T09:06:47Z</td>\n",
       "      <td>http://ww.w.kamunikat.org/katalohbht.html?pub_...</td>\n",
       "    </tr>\n",
       "    <tr>\n",
       "      <th>4</th>\n",
       "      <td>7.118645</td>\n",
       "      <td>1473</td>\n",
       "      <td>\"Беларусь 3\" ушануе памяць Валерыя Чкалава | Б...</td>\n",
       "      <td>2019-02-24T06:42:12Z</td>\n",
       "      <td>http://3belarus.by/be/news/belarus-3-ushanue-p...</td>\n",
       "    </tr>\n",
       "    <tr>\n",
       "      <th>5</th>\n",
       "      <td>7.238077</td>\n",
       "      <td>506</td>\n",
       "      <td>Прэзентацыя кнігі «Хуш Килесез — калі ласка!: ...</td>\n",
       "      <td>2019-02-17T06:57:53Z</td>\n",
       "      <td>http://mininform.gov.by/news/stuzhka-navin/pre...</td>\n",
       "    </tr>\n",
       "    <tr>\n",
       "      <th>6</th>\n",
       "      <td>7.278406</td>\n",
       "      <td>408</td>\n",
       "      <td>Аляксей Белы адзначае юбілей\\nГалоўная » Навін...</td>\n",
       "      <td>2020-03-29T15:38:08Z</td>\n",
       "      <td>https://lit-bel.org/news/Alyaksey-Beli-adznach...</td>\n",
       "    </tr>\n",
       "    <tr>\n",
       "      <th>7</th>\n",
       "      <td>7.476275</td>\n",
       "      <td>1358</td>\n",
       "      <td>«Дарогамі Максіма Танка»\\nОпубликовано: 18.09....</td>\n",
       "      <td>2018-03-23T16:48:12Z</td>\n",
       "      <td>https://www.sb.by/articles/darogam-maks-ma-tan...</td>\n",
       "    </tr>\n",
       "    <tr>\n",
       "      <th>8</th>\n",
       "      <td>7.612226</td>\n",
       "      <td>544</td>\n",
       "      <td>Творчая сустрэча «Родны край, я цябе апяваю»\\n...</td>\n",
       "      <td>2019-12-12T14:06:21Z</td>\n",
       "      <td>http://kb.brl.by/index.php/home?view=featured</td>\n",
       "    </tr>\n",
       "    <tr>\n",
       "      <th>9</th>\n",
       "      <td>7.784564</td>\n",
       "      <td>120</td>\n",
       "      <td>Прэм'ера ''Смешныя людзі'' - 12.10.2018 - Наци...</td>\n",
       "      <td>2018-10-18T09:00:55Z</td>\n",
       "      <td>https://www.kvitki.by/rus/bileti/teatr/drama/p...</td>\n",
       "    </tr>\n",
       "  </tbody>\n",
       "</table>\n",
       "</div>"
      ],
      "text/plain": [
       "      score    id                                               text  \\\n",
       "0  6.629228  1656  ﻿ Новыя паступленні музея імя Суворава | А. М....   \n",
       "1  6.785421   901  ﻿ Стаўленне да вайны — характарыстыка духоўнас...   \n",
       "2  6.891847    77  Мікалай Якаўлевіч Нікіфароўскі — Вікіпедыя\\nМі...   \n",
       "3  7.098675   344  Арлоў Уладзімір, Айчына, частка першая - Белар...   \n",
       "4  7.118645  1473  \"Беларусь 3\" ушануе памяць Валерыя Чкалава | Б...   \n",
       "5  7.238077   506  Прэзентацыя кнігі «Хуш Килесез — калі ласка!: ...   \n",
       "6  7.278406   408  Аляксей Белы адзначае юбілей\\nГалоўная » Навін...   \n",
       "7  7.476275  1358  «Дарогамі Максіма Танка»\\nОпубликовано: 18.09....   \n",
       "8  7.612226   544  Творчая сустрэча «Родны край, я цябе апяваю»\\n...   \n",
       "9  7.784564   120  Прэм'ера ''Смешныя людзі'' - 12.10.2018 - Наци...   \n",
       "\n",
       "              timestamp                                                url  \n",
       "0  2017-08-18T16:34:45Z                  http://ikobrin.ru/martinov-52.php  \n",
       "1  2020-08-04T17:20:46Z  http://zviazda.by/be/news/20150508/1431035548-...  \n",
       "2  2020-08-03T21:55:48Z  https://be.m.wikipedia.org/wiki/%D0%9C%D1%96%D...  \n",
       "3  2019-11-12T09:06:47Z  http://ww.w.kamunikat.org/katalohbht.html?pub_...  \n",
       "4  2019-02-24T06:42:12Z  http://3belarus.by/be/news/belarus-3-ushanue-p...  \n",
       "5  2019-02-17T06:57:53Z  http://mininform.gov.by/news/stuzhka-navin/pre...  \n",
       "6  2020-03-29T15:38:08Z  https://lit-bel.org/news/Alyaksey-Beli-adznach...  \n",
       "7  2018-03-23T16:48:12Z  https://www.sb.by/articles/darogam-maks-ma-tan...  \n",
       "8  2019-12-12T14:06:21Z      http://kb.brl.by/index.php/home?view=featured  \n",
       "9  2018-10-18T09:00:55Z  https://www.kvitki.by/rus/bileti/teatr/drama/p...  "
      ]
     },
     "execution_count": 7,
     "metadata": {},
     "output_type": "execute_result"
    }
   ],
   "source": [
    "# Create texts collection copy.\n",
    "new_dataset = load_dataset('mc4', 'be', split='validation')\n",
    "new_dataset = new_dataset.add_column('id', list(range(len(dataset))))\n",
    "# Upsert method implements data update or insertion into your storage.\n",
    "search.upsert(dataset=new_dataset)\n",
    "rez = search.search('аповесць беларускага пісьменніка Уладзіміра Караткевіча', verbose=False, k=10)\n",
    "rez"
   ]
  },
  {
   "cell_type": "markdown",
   "metadata": {},
   "source": [
    "As a result deleted texts have reappeared in the storage and other texts have avoided duplication."
   ]
  }
 ],
 "metadata": {
  "kernelspec": {
   "display_name": ".venv",
   "language": "python",
   "name": "python3"
  },
  "language_info": {
   "codemirror_mode": {
    "name": "ipython",
    "version": 3
   },
   "file_extension": ".py",
   "mimetype": "text/x-python",
   "name": "python",
   "nbconvert_exporter": "python",
   "pygments_lexer": "ipython3",
   "version": "3.11.6"
  }
 },
 "nbformat": 4,
 "nbformat_minor": 2
}
