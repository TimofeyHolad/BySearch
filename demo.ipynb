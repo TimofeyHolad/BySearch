{
 "cells": [
  {
   "cell_type": "code",
   "execution_count": 1,
   "metadata": {},
   "outputs": [],
   "source": [
    "from datasets import load_dataset\n",
    "\n",
    "from bysearch import Engine\n",
    "from bysearch.pipelines import HuggingFacePipeline, ONNXPipeline\n",
    "from bysearch.backends import LocalBackend, PineconeBackend, ChromaBackend "
   ]
  },
  {
   "cell_type": "code",
   "execution_count": 2,
   "metadata": {},
   "outputs": [],
   "source": [
    "# backend = LocalBackend(text_column_name='text', id_column_name='url')\n",
    "# backend = PineconeBackend(text_column_name='text', id_column_name='url', api_key='8d7794bb-a586-4dd9-a0b4-8d9dfd0fdf1a', environment ='gcp-starter', index_name='by-embeddings')\n",
    "backend = ChromaBackend(text_column_name='text', id_column_name='url', type='persistent', collection_name='by-embeddings')"
   ]
  },
  {
   "cell_type": "code",
   "execution_count": 3,
   "metadata": {},
   "outputs": [],
   "source": [
    "# pipeline = HuggingFacePipeline('KoichiYasuoka/roberta-small-belarusian', 'KoichiYasuoka/roberta-small-belarusian', 'cuda', max_context_length=127)\n",
    "pipeline = ONNXPipeline('KoichiYasuoka/roberta-small-belarusian', 'onnx\\\\model.onnx', max_context_length=127)"
   ]
  },
  {
   "cell_type": "code",
   "execution_count": 4,
   "metadata": {},
   "outputs": [
    {
     "name": "stderr",
     "output_type": "stream",
     "text": [
      "Parameter 'function'=<function Engine.load_dataset.<locals>.<lambda> at 0x0000022529250720> of the transform datasets.arrow_dataset.Dataset._map_single couldn't be hashed properly, a random hash was used instead. Make sure your transforms and parameters are serializable with pickle or dill for the dataset fingerprinting and caching to work. If you reuse this transform, the caching mechanism will consider it to be different from the previous calls and recompute everything. This warning is only showed once. Subsequent hashing failures won't be showed.\n"
     ]
    },
    {
     "data": {
      "application/vnd.jupyter.widget-view+json": {
       "model_id": "84714814d9534ba4a8a76d6065d77f9b",
       "version_major": 2,
       "version_minor": 0
      },
      "text/plain": [
       "Map:   0%|          | 0/1712 [00:00<?, ? examples/s]"
      ]
     },
     "metadata": {},
     "output_type": "display_data"
    },
    {
     "data": {
      "text/html": [
       "<div>\n",
       "<style scoped>\n",
       "    .dataframe tbody tr th:only-of-type {\n",
       "        vertical-align: middle;\n",
       "    }\n",
       "\n",
       "    .dataframe tbody tr th {\n",
       "        vertical-align: top;\n",
       "    }\n",
       "\n",
       "    .dataframe thead th {\n",
       "        text-align: right;\n",
       "    }\n",
       "</style>\n",
       "<table border=\"1\" class=\"dataframe\">\n",
       "  <thead>\n",
       "    <tr style=\"text-align: right;\">\n",
       "      <th></th>\n",
       "      <th>score</th>\n",
       "      <th>url</th>\n",
       "      <th>text</th>\n",
       "      <th>timestamp</th>\n",
       "    </tr>\n",
       "  </thead>\n",
       "  <tbody>\n",
       "    <tr>\n",
       "      <th>0</th>\n",
       "      <td>6.629228</td>\n",
       "      <td>http://ikobrin.ru/martinov-52.php</td>\n",
       "      <td>﻿ Новыя паступленні музея імя Суворава | А. М....</td>\n",
       "      <td>2017-08-18T16:34:45Z</td>\n",
       "    </tr>\n",
       "    <tr>\n",
       "      <th>1</th>\n",
       "      <td>6.785421</td>\n",
       "      <td>http://zviazda.by/be/news/20150508/1431035548-...</td>\n",
       "      <td>﻿ Стаўленне да вайны — характарыстыка духоўнас...</td>\n",
       "      <td>2020-08-04T17:20:46Z</td>\n",
       "    </tr>\n",
       "    <tr>\n",
       "      <th>2</th>\n",
       "      <td>6.891847</td>\n",
       "      <td>https://be.m.wikipedia.org/wiki/%D0%9C%D1%96%D...</td>\n",
       "      <td>Мікалай Якаўлевіч Нікіфароўскі — Вікіпедыя\\nМі...</td>\n",
       "      <td>2020-08-03T21:55:48Z</td>\n",
       "    </tr>\n",
       "    <tr>\n",
       "      <th>3</th>\n",
       "      <td>7.098675</td>\n",
       "      <td>http://ww.w.kamunikat.org/katalohbht.html?pub_...</td>\n",
       "      <td>Арлоў Уладзімір, Айчына, частка першая - Белар...</td>\n",
       "      <td>2019-11-12T09:06:47Z</td>\n",
       "    </tr>\n",
       "    <tr>\n",
       "      <th>4</th>\n",
       "      <td>7.118645</td>\n",
       "      <td>http://3belarus.by/be/news/belarus-3-ushanue-p...</td>\n",
       "      <td>\"Беларусь 3\" ушануе памяць Валерыя Чкалава | Б...</td>\n",
       "      <td>2019-02-24T06:42:12Z</td>\n",
       "    </tr>\n",
       "  </tbody>\n",
       "</table>\n",
       "</div>"
      ],
      "text/plain": [
       "      score                                                url  \\\n",
       "0  6.629228                  http://ikobrin.ru/martinov-52.php   \n",
       "1  6.785421  http://zviazda.by/be/news/20150508/1431035548-...   \n",
       "2  6.891847  https://be.m.wikipedia.org/wiki/%D0%9C%D1%96%D...   \n",
       "3  7.098675  http://ww.w.kamunikat.org/katalohbht.html?pub_...   \n",
       "4  7.118645  http://3belarus.by/be/news/belarus-3-ushanue-p...   \n",
       "\n",
       "                                                text             timestamp  \n",
       "0  ﻿ Новыя паступленні музея імя Суворава | А. М....  2017-08-18T16:34:45Z  \n",
       "1  ﻿ Стаўленне да вайны — характарыстыка духоўнас...  2020-08-04T17:20:46Z  \n",
       "2  Мікалай Якаўлевіч Нікіфароўскі — Вікіпедыя\\nМі...  2020-08-03T21:55:48Z  \n",
       "3  Арлоў Уладзімір, Айчына, частка першая - Белар...  2019-11-12T09:06:47Z  \n",
       "4  \"Беларусь 3\" ушануе памяць Валерыя Чкалава | Б...  2019-02-24T06:42:12Z  "
      ]
     },
     "execution_count": 4,
     "metadata": {},
     "output_type": "execute_result"
    }
   ],
   "source": [
    "dataset = load_dataset('mc4', 'be', split='validation')\n",
    "search = Engine(dataset=dataset, pipeline=pipeline, backend=backend)\n",
    "rez = search.search('аповесць беларускага пісьменніка Уладзіміра Караткевіча', verbose=False)\n",
    "rez"
   ]
  },
  {
   "cell_type": "code",
   "execution_count": 5,
   "metadata": {},
   "outputs": [
    {
     "data": {
      "text/html": [
       "<div>\n",
       "<style scoped>\n",
       "    .dataframe tbody tr th:only-of-type {\n",
       "        vertical-align: middle;\n",
       "    }\n",
       "\n",
       "    .dataframe tbody tr th {\n",
       "        vertical-align: top;\n",
       "    }\n",
       "\n",
       "    .dataframe thead th {\n",
       "        text-align: right;\n",
       "    }\n",
       "</style>\n",
       "<table border=\"1\" class=\"dataframe\">\n",
       "  <thead>\n",
       "    <tr style=\"text-align: right;\">\n",
       "      <th></th>\n",
       "      <th>score</th>\n",
       "      <th>url</th>\n",
       "      <th>text</th>\n",
       "      <th>timestamp</th>\n",
       "    </tr>\n",
       "  </thead>\n",
       "  <tbody>\n",
       "    <tr>\n",
       "      <th>0</th>\n",
       "      <td>7.238077</td>\n",
       "      <td>http://mininform.gov.by/news/stuzhka-navin/pre...</td>\n",
       "      <td>Прэзентацыя кнігі «Хуш Килесез — калі ласка!: ...</td>\n",
       "      <td>2019-02-17T06:57:53Z</td>\n",
       "    </tr>\n",
       "    <tr>\n",
       "      <th>1</th>\n",
       "      <td>7.278406</td>\n",
       "      <td>https://lit-bel.org/news/Alyaksey-Beli-adznach...</td>\n",
       "      <td>Аляксей Белы адзначае юбілей\\nГалоўная » Навін...</td>\n",
       "      <td>2020-03-29T15:38:08Z</td>\n",
       "    </tr>\n",
       "    <tr>\n",
       "      <th>2</th>\n",
       "      <td>7.476275</td>\n",
       "      <td>https://www.sb.by/articles/darogam-maks-ma-tan...</td>\n",
       "      <td>«Дарогамі Максіма Танка»\\nОпубликовано: 18.09....</td>\n",
       "      <td>2018-03-23T16:48:12Z</td>\n",
       "    </tr>\n",
       "    <tr>\n",
       "      <th>3</th>\n",
       "      <td>7.612226</td>\n",
       "      <td>http://kb.brl.by/index.php/home?view=featured</td>\n",
       "      <td>Творчая сустрэча «Родны край, я цябе апяваю»\\n...</td>\n",
       "      <td>2019-12-12T14:06:21Z</td>\n",
       "    </tr>\n",
       "    <tr>\n",
       "      <th>4</th>\n",
       "      <td>7.784564</td>\n",
       "      <td>https://www.kvitki.by/rus/bileti/teatr/drama/p...</td>\n",
       "      <td>Прэм'ера ''Смешныя людзі'' - 12.10.2018 - Наци...</td>\n",
       "      <td>2018-10-18T09:00:55Z</td>\n",
       "    </tr>\n",
       "  </tbody>\n",
       "</table>\n",
       "</div>"
      ],
      "text/plain": [
       "      score                                                url  \\\n",
       "0  7.238077  http://mininform.gov.by/news/stuzhka-navin/pre...   \n",
       "1  7.278406  https://lit-bel.org/news/Alyaksey-Beli-adznach...   \n",
       "2  7.476275  https://www.sb.by/articles/darogam-maks-ma-tan...   \n",
       "3  7.612226      http://kb.brl.by/index.php/home?view=featured   \n",
       "4  7.784564  https://www.kvitki.by/rus/bileti/teatr/drama/p...   \n",
       "\n",
       "                                                text             timestamp  \n",
       "0  Прэзентацыя кнігі «Хуш Килесез — калі ласка!: ...  2019-02-17T06:57:53Z  \n",
       "1  Аляксей Белы адзначае юбілей\\nГалоўная » Навін...  2020-03-29T15:38:08Z  \n",
       "2  «Дарогамі Максіма Танка»\\nОпубликовано: 18.09....  2018-03-23T16:48:12Z  \n",
       "3  Творчая сустрэча «Родны край, я цябе апяваю»\\n...  2019-12-12T14:06:21Z  \n",
       "4  Прэм'ера ''Смешныя людзі'' - 12.10.2018 - Наци...  2018-10-18T09:00:55Z  "
      ]
     },
     "execution_count": 5,
     "metadata": {},
     "output_type": "execute_result"
    }
   ],
   "source": [
    "search.delete(rez['url'].tolist())\n",
    "rez = search.search('аповесць беларускага пісьменніка Уладзіміра Караткевіча', verbose=False)\n",
    "rez"
   ]
  },
  {
   "cell_type": "code",
   "execution_count": 6,
   "metadata": {},
   "outputs": [
    {
     "data": {
      "application/vnd.jupyter.widget-view+json": {
       "model_id": "5fc4db1bb9d54615a5c9d1c56637574a",
       "version_major": 2,
       "version_minor": 0
      },
      "text/plain": [
       "Map:   0%|          | 0/1712 [00:00<?, ? examples/s]"
      ]
     },
     "metadata": {},
     "output_type": "display_data"
    },
    {
     "data": {
      "text/html": [
       "<div>\n",
       "<style scoped>\n",
       "    .dataframe tbody tr th:only-of-type {\n",
       "        vertical-align: middle;\n",
       "    }\n",
       "\n",
       "    .dataframe tbody tr th {\n",
       "        vertical-align: top;\n",
       "    }\n",
       "\n",
       "    .dataframe thead th {\n",
       "        text-align: right;\n",
       "    }\n",
       "</style>\n",
       "<table border=\"1\" class=\"dataframe\">\n",
       "  <thead>\n",
       "    <tr style=\"text-align: right;\">\n",
       "      <th></th>\n",
       "      <th>score</th>\n",
       "      <th>url</th>\n",
       "      <th>text</th>\n",
       "      <th>timestamp</th>\n",
       "    </tr>\n",
       "  </thead>\n",
       "  <tbody>\n",
       "    <tr>\n",
       "      <th>0</th>\n",
       "      <td>6.629228</td>\n",
       "      <td>http://ikobrin.ru/martinov-52.php</td>\n",
       "      <td>﻿ Новыя паступленні музея імя Суворава | А. М....</td>\n",
       "      <td>2017-08-18T16:34:45Z</td>\n",
       "    </tr>\n",
       "    <tr>\n",
       "      <th>1</th>\n",
       "      <td>6.785421</td>\n",
       "      <td>http://zviazda.by/be/news/20150508/1431035548-...</td>\n",
       "      <td>﻿ Стаўленне да вайны — характарыстыка духоўнас...</td>\n",
       "      <td>2020-08-04T17:20:46Z</td>\n",
       "    </tr>\n",
       "    <tr>\n",
       "      <th>2</th>\n",
       "      <td>6.891847</td>\n",
       "      <td>https://be.m.wikipedia.org/wiki/%D0%9C%D1%96%D...</td>\n",
       "      <td>Мікалай Якаўлевіч Нікіфароўскі — Вікіпедыя\\nМі...</td>\n",
       "      <td>2020-08-03T21:55:48Z</td>\n",
       "    </tr>\n",
       "    <tr>\n",
       "      <th>3</th>\n",
       "      <td>7.098675</td>\n",
       "      <td>http://ww.w.kamunikat.org/katalohbht.html?pub_...</td>\n",
       "      <td>Арлоў Уладзімір, Айчына, частка першая - Белар...</td>\n",
       "      <td>2019-11-12T09:06:47Z</td>\n",
       "    </tr>\n",
       "    <tr>\n",
       "      <th>4</th>\n",
       "      <td>7.118645</td>\n",
       "      <td>http://3belarus.by/be/news/belarus-3-ushanue-p...</td>\n",
       "      <td>\"Беларусь 3\" ушануе памяць Валерыя Чкалава | Б...</td>\n",
       "      <td>2019-02-24T06:42:12Z</td>\n",
       "    </tr>\n",
       "  </tbody>\n",
       "</table>\n",
       "</div>"
      ],
      "text/plain": [
       "      score                                                url  \\\n",
       "0  6.629228                  http://ikobrin.ru/martinov-52.php   \n",
       "1  6.785421  http://zviazda.by/be/news/20150508/1431035548-...   \n",
       "2  6.891847  https://be.m.wikipedia.org/wiki/%D0%9C%D1%96%D...   \n",
       "3  7.098675  http://ww.w.kamunikat.org/katalohbht.html?pub_...   \n",
       "4  7.118645  http://3belarus.by/be/news/belarus-3-ushanue-p...   \n",
       "\n",
       "                                                text             timestamp  \n",
       "0  ﻿ Новыя паступленні музея імя Суворава | А. М....  2017-08-18T16:34:45Z  \n",
       "1  ﻿ Стаўленне да вайны — характарыстыка духоўнас...  2020-08-04T17:20:46Z  \n",
       "2  Мікалай Якаўлевіч Нікіфароўскі — Вікіпедыя\\nМі...  2020-08-03T21:55:48Z  \n",
       "3  Арлоў Уладзімір, Айчына, частка першая - Белар...  2019-11-12T09:06:47Z  \n",
       "4  \"Беларусь 3\" ушануе памяць Валерыя Чкалава | Б...  2019-02-24T06:42:12Z  "
      ]
     },
     "execution_count": 6,
     "metadata": {},
     "output_type": "execute_result"
    }
   ],
   "source": [
    "new_dataset = load_dataset('mc4', 'be', split='validation')\n",
    "search.upsert(dataset=new_dataset)\n",
    "rez = search.search('аповесць беларускага пісьменніка Уладзіміра Караткевіча', verbose=False)\n",
    "rez"
   ]
  },
  {
   "cell_type": "code",
   "execution_count": null,
   "metadata": {},
   "outputs": [],
   "source": []
  }
 ],
 "metadata": {
  "kernelspec": {
   "display_name": ".venv",
   "language": "python",
   "name": "python3"
  },
  "language_info": {
   "codemirror_mode": {
    "name": "ipython",
    "version": 3
   },
   "file_extension": ".py",
   "mimetype": "text/x-python",
   "name": "python",
   "nbconvert_exporter": "python",
   "pygments_lexer": "ipython3",
   "version": "3.11.6"
  }
 },
 "nbformat": 4,
 "nbformat_minor": 2
}
