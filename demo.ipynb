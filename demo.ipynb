{
 "cells": [
  {
   "cell_type": "markdown",
   "metadata": {},
   "source": [
    "## BySearch\n",
    "Пакет bysearch реализует легкие и эффективные пайплайны semantic search поисковиков с помощью простого и доступного API, объединяя современные векторные хранилища с легковесными открытыми языковыми моделями.\n",
    "\n",
    "Моя цель - открытое, доступное и простое во всех смыслах решение, с помощью которого даже незнакомые с Deep learning'ом разработчики могли бы создавать и внедрять в свои проекты semantic search движки для любых языков (по крайней мере в том случае, если для выбранного языка существует хотя бы одна, даже самая маленькая, NLP модель). "
   ]
  },
  {
   "cell_type": "code",
   "execution_count": 1,
   "metadata": {},
   "outputs": [],
   "source": [
    "from datasets import load_dataset\n",
    "\n",
    "from bysearch import Engine\n",
    "from bysearch.pipelines import HuggingFacePipeline, ONNXPipeline\n",
    "from bysearch.backends import DatasetBackend, PineconeBackend, ChromaBackend "
   ]
  },
  {
   "cell_type": "markdown",
   "metadata": {},
   "source": [
    "Разберем работу пакета на примере создания поисковика для беларускамоўных текстов.\n",
    "\n",
    "Базовым классом пакета является класс Engine, он организует все потоки данных, начиная с голого текста и заканчивая хранилищем векторов. Engine руководит другими модулями, которые осуществляют обработку и превращение текста в эмбеддинги (векторное представление текста), а также реализуют операции над выбранным векторным хранилищем. Класс Engine реализует единый простой API, который на данный момент поддерживает операции добавления коллекции текстов, удаления текстов по ID и поиска текста по промпту. \n",
    "\n",
    "Для работы Engin'у необходимы два компонента: \n",
    "1. DataBackend, который непосредственно реализует общение с выбранной базой данных.\n",
    "2. EmbeddingPipeline, который реализует алгоритмы генерации эмбеддингов текстов.\n",
    "\n",
    "Добавляемый текст должен храниться в Pandas DataFrame или в Hugging Face Dataset.\n",
    "\n",
    "Взглянем на DataBackend'ы. На данный момент поддерживаются бекенды для взаимодействия с хранилищами Pinecone и Chroma, а также простой локальный бекенд, реализуемый на Hugging Face Dataset'ах. Общими обязательнами параметрами при инициализации любых классов DataBackend являются text_column_name, который должен содержать имя поля, в котором текст содержится в добавляемых коллекциях и в котором текст будет содержаться в векторном хранилище, а также id_column_name, которое содержит имя поля с уникальным идентификатором каждого текста в добавляемой коллекции и в векторном хранилище. Остальные параметры инициализации каждого отдельного бекенда служат для подключения к соответствующей ему базе данных. DataBackend'ы обеспечивают подключение к уже существующим хранилищам или автоматическое создание новых в том случае, если хранилища с указанным именем не сущесвтует. "
   ]
  },
  {
   "cell_type": "code",
   "execution_count": 2,
   "metadata": {},
   "outputs": [],
   "source": [
    "# Простой локальный бекенд, хранится в оперативной памяти в рамках сессии Python,\n",
    "# не поддерживает удаление, не отслеживает дубликаты текстов.\n",
    "# Рекомендуется использовать исключительно при тестировании.\n",
    "# backend = DatasetBackend(\n",
    "#     text_column_name='text', \n",
    "#     id_column_name='id'\n",
    "# )\n",
    "\n",
    "# Бекенд реализующий подключение и общение с хранилищем Pinecone.\n",
    "# Pinecone является платным закрытым облачным хранилищем, предоставляющим доступ к API по ключу.\n",
    "# backend = PineconeBackend(\n",
    "#     text_column_name='text', \n",
    "#     id_column_name='id', \n",
    "#     api_key='your key', \n",
    "#     environment ='gcp-starter', \n",
    "#     index_name='your index name'\n",
    "# )\n",
    "\n",
    "# Бекенд реализующий подключение и общение с хранилищем Chroma.\n",
    "# Chroma является гибким открытым хранилищем.\n",
    "# Поддерживает локальное хранение в оперативной памяти, на диске, а также на сервере.\n",
    "backend = ChromaBackend(\n",
    "    text_column_name='text', \n",
    "    id_column_name='id', \n",
    "    type='persistent', \n",
    "    collection_name='by-embeddings'\n",
    ")"
   ]
  },
  {
   "cell_type": "markdown",
   "metadata": {},
   "source": [
    "Перейдем к EmbeddingPipelin'ам. На данный момент реализована поддержка моделей из крупнейшего хаба моделей Hugging Face, реализована  поддержка моделей в формате ONNX, а также конвертер моделей Hugging Face в формат ONNX для быстрой обработки текстов. \n",
    "\n",
    "Создадим пайплайн, использующий маленькую RoBERT'у, обученную для беларускай мовы. \n",
    "\n",
    "Выбор модели зависит от используемых языков в корпусе текстов, который будет обрабатываться моделью. "
   ]
  },
  {
   "cell_type": "code",
   "execution_count": 3,
   "metadata": {},
   "outputs": [
    {
     "name": "stderr",
     "output_type": "stream",
     "text": [
      "Some weights of RobertaModel were not initialized from the model checkpoint at KoichiYasuoka/roberta-small-belarusian and are newly initialized: ['roberta.pooler.dense.weight', 'roberta.pooler.dense.bias']\n",
      "You should probably TRAIN this model on a down-stream task to be able to use it for predictions and inference.\n"
     ]
    },
    {
     "name": "stdout",
     "output_type": "stream",
     "text": [
      "============= Diagnostic Run torch.onnx.export version 2.0.1+cu118 =============\n",
      "verbose: False, log level: Level.ERROR\n",
      "======================= 0 NONE 0 NOTE 0 WARNING 0 ERROR ========================\n",
      "\n"
     ]
    }
   ],
   "source": [
    "# HuggingFacePipeline реализует генерацию эмбеддингов текста\n",
    "# с помощью любых языковых моделей-трансформеров из хаба Hugging Face.\n",
    "# Рекомендуется использовать только в процессе тестирования.\n",
    "# pipeline = HuggingFacePipeline(\n",
    "#     model='KoichiYasuoka/roberta-small-belarusian', \n",
    "#     max_context_length=127\n",
    "# )\n",
    "\n",
    "# ONNXPipeline реализует генерацию эмбеддингов текста\n",
    "# с помощью любых языковых моделей-трансформеров в формате ONNX.\n",
    "# Рекомендуется использовать для долговременной поддержки поискового движка,\n",
    "# поскольку модели в формате ONNX оптимизированы для быстрой работы.\n",
    "# Для данного пайплайна реализован метод from_hugging_face,\n",
    "# который конвертирует модели Hugging Face в формат ONNX.\n",
    "pipeline = ONNXPipeline.from_hugging_face(\n",
    "    model='KoichiYasuoka/roberta-small-belarusian', \n",
    "    onnx_save_path='onnx\\\\model.onnx', \n",
    "    max_context_length=127, \n",
    "    dummy_input=['What is Lorem Ipsum?Lorem Ipsum is simply dummy text of the printing and typesetting industry. Lorem Ipsum has been the industrys standard dummy text ever since the 1500s, when an unknown printer took a galley of type and scrambled it to make a type specimen book. It has survived not only five centuries, but also the leap into electronic typesetting, remaining essentially unchanged. It was popularised in the 1960s with the release of Letraset sheets containing Lorem Ipsum passages, and more recently with desktop publishing software like Aldus PageMaker including versions of Lorem Ipsum. Why do we use it?It is a long established fact that a reader will be distracted by the readable content of a page when looking at its layout. The point of using Lorem Ipsum is that it has a more-or-less normal distribution of letters, as opposed to using, making it look like readable English. Many desktop publishing packages and web page editors now use Lorem Ipsum as their default model text, and a search for will uncover many web sites still in their infancy. Various versions have evolved over the years, sometimes by accident, sometimes on purpose (injected humour and the like).']\n",
    ")"
   ]
  },
  {
   "cell_type": "markdown",
   "metadata": {},
   "source": [
    "Подготовим данные из корпуса беларуских текстов и соберем Engine. "
   ]
  },
  {
   "cell_type": "code",
   "execution_count": 8,
   "metadata": {},
   "outputs": [
    {
     "data": {
      "application/vnd.jupyter.widget-view+json": {
       "model_id": "f9e9d70c4e414d87b2c6a58da55f4698",
       "version_major": 2,
       "version_minor": 0
      },
      "text/plain": [
       "Map:   0%|          | 0/1712 [00:00<?, ? examples/s]"
      ]
     },
     "metadata": {},
     "output_type": "display_data"
    },
    {
     "ename": "KeyboardInterrupt",
     "evalue": "",
     "output_type": "error",
     "traceback": [
      "\u001b[1;31m---------------------------------------------------------------------------\u001b[0m",
      "\u001b[1;31mKeyboardInterrupt\u001b[0m                         Traceback (most recent call last)",
      "\u001b[1;32mc:\\Users\\tihol\\Projects\\PyProjects\\BySearch\\demo.ipynb Cell 8\u001b[0m line \u001b[0;36m1\n\u001b[0;32m      <a href='vscode-notebook-cell:/c%3A/Users/tihol/Projects/PyProjects/BySearch/demo.ipynb#X10sZmlsZQ%3D%3D?line=4'>5</a>\u001b[0m dataset \u001b[39m=\u001b[39m dataset\u001b[39m.\u001b[39madd_column(\u001b[39m'\u001b[39m\u001b[39mid\u001b[39m\u001b[39m'\u001b[39m, \u001b[39mlist\u001b[39m(\u001b[39mrange\u001b[39m(\u001b[39mlen\u001b[39m(dataset))))\n\u001b[0;32m      <a href='vscode-notebook-cell:/c%3A/Users/tihol/Projects/PyProjects/BySearch/demo.ipynb#X10sZmlsZQ%3D%3D?line=5'>6</a>\u001b[0m \u001b[39m# Собираем Engine из выбранных пайплайна и бекенда,\u001b[39;00m\n\u001b[0;32m      <a href='vscode-notebook-cell:/c%3A/Users/tihol/Projects/PyProjects/BySearch/demo.ipynb#X10sZmlsZQ%3D%3D?line=6'>7</a>\u001b[0m \u001b[39m# а также передаем загружаемый корпус текстов в параметр dataset.\u001b[39;00m\n\u001b[0;32m      <a href='vscode-notebook-cell:/c%3A/Users/tihol/Projects/PyProjects/BySearch/demo.ipynb#X10sZmlsZQ%3D%3D?line=7'>8</a>\u001b[0m \u001b[39m# Параметр dataset не является обязательным при инициализации Engine, \u001b[39;00m\n\u001b[0;32m      <a href='vscode-notebook-cell:/c%3A/Users/tihol/Projects/PyProjects/BySearch/demo.ipynb#X10sZmlsZQ%3D%3D?line=8'>9</a>\u001b[0m \u001b[39m# корпус текстов может быть загружен отдельно с помощью метода upsert.\u001b[39;00m\n\u001b[1;32m---> <a href='vscode-notebook-cell:/c%3A/Users/tihol/Projects/PyProjects/BySearch/demo.ipynb#X10sZmlsZQ%3D%3D?line=9'>10</a>\u001b[0m search \u001b[39m=\u001b[39m Engine(dataset\u001b[39m=\u001b[39;49mdataset, pipeline\u001b[39m=\u001b[39;49mpipeline, backend\u001b[39m=\u001b[39;49mbackend)\n",
      "File \u001b[1;32mc:\\Users\\tihol\\Projects\\PyProjects\\BySearch\\bysearch\\engine.py:40\u001b[0m, in \u001b[0;36mEngine.__init__\u001b[1;34m(self, pipeline, backend, dataset, compute_embeddings)\u001b[0m\n\u001b[0;32m     38\u001b[0m \u001b[39m# Load and/or preprocess dataset\u001b[39;00m\n\u001b[0;32m     39\u001b[0m \u001b[39mif\u001b[39;00m dataset \u001b[39mis\u001b[39;00m \u001b[39mnot\u001b[39;00m \u001b[39mNone\u001b[39;00m:\n\u001b[1;32m---> 40\u001b[0m     \u001b[39mself\u001b[39;49m\u001b[39m.\u001b[39;49mupsert(dataset, compute_embeddings\u001b[39m=\u001b[39;49mcompute_embeddings)\n",
      "File \u001b[1;32mc:\\Users\\tihol\\Projects\\PyProjects\\BySearch\\bysearch\\engine.py:43\u001b[0m, in \u001b[0;36mEngine.upsert\u001b[1;34m(self, dataset, compute_embeddings)\u001b[0m\n\u001b[0;32m     42\u001b[0m \u001b[39mdef\u001b[39;00m \u001b[39mupsert\u001b[39m(\u001b[39mself\u001b[39m, dataset: Dataset \u001b[39m|\u001b[39m DataFrame \u001b[39m=\u001b[39m \u001b[39mNone\u001b[39;00m, compute_embeddings: \u001b[39mbool\u001b[39m \u001b[39m=\u001b[39m \u001b[39mTrue\u001b[39;00m) \u001b[39m-\u001b[39m\u001b[39m>\u001b[39m \u001b[39mNone\u001b[39;00m:\n\u001b[1;32m---> 43\u001b[0m     dataset \u001b[39m=\u001b[39m \u001b[39mself\u001b[39;49m\u001b[39m.\u001b[39;49mload_dataset(dataset, compute_embeddings\u001b[39m=\u001b[39;49mcompute_embeddings)\n\u001b[0;32m     44\u001b[0m     \u001b[39mself\u001b[39m\u001b[39m.\u001b[39mbackend\u001b[39m.\u001b[39mupsert(dataset)\n",
      "File \u001b[1;32mc:\\Users\\tihol\\Projects\\PyProjects\\BySearch\\bysearch\\engine.py:22\u001b[0m, in \u001b[0;36mEngine.load_dataset\u001b[1;34m(self, dataset, compute_embeddings, batch_size)\u001b[0m\n\u001b[0;32m     20\u001b[0m \u001b[39m# Compute embeddings from text column if necessary \u001b[39;00m\n\u001b[0;32m     21\u001b[0m \u001b[39mif\u001b[39;00m compute_embeddings:\n\u001b[1;32m---> 22\u001b[0m     dataset \u001b[39m=\u001b[39m dataset\u001b[39m.\u001b[39;49mmap(\n\u001b[0;32m     23\u001b[0m         \u001b[39mlambda\u001b[39;49;00m x: {\u001b[39m\"\u001b[39;49m\u001b[39membedding\u001b[39;49m\u001b[39m\"\u001b[39;49m: \u001b[39mself\u001b[39;49m\u001b[39m.\u001b[39;49mpipeline(x[\u001b[39mself\u001b[39;49m\u001b[39m.\u001b[39;49mbackend\u001b[39m.\u001b[39;49mtext_column_name])}, \n\u001b[0;32m     24\u001b[0m         batched\u001b[39m=\u001b[39;49m\u001b[39mTrue\u001b[39;49;00m,\n\u001b[0;32m     25\u001b[0m         batch_size\u001b[39m=\u001b[39;49mbatch_size,\n\u001b[0;32m     26\u001b[0m     )\n\u001b[0;32m     27\u001b[0m \u001b[39mreturn\u001b[39;00m dataset\n",
      "File \u001b[1;32mc:\\Users\\tihol\\Projects\\PyProjects\\BySearch\\.venv\\Lib\\site-packages\\datasets\\arrow_dataset.py:592\u001b[0m, in \u001b[0;36mtransmit_tasks.<locals>.wrapper\u001b[1;34m(*args, **kwargs)\u001b[0m\n\u001b[0;32m    590\u001b[0m     \u001b[39mself\u001b[39m: \u001b[39m\"\u001b[39m\u001b[39mDataset\u001b[39m\u001b[39m\"\u001b[39m \u001b[39m=\u001b[39m kwargs\u001b[39m.\u001b[39mpop(\u001b[39m\"\u001b[39m\u001b[39mself\u001b[39m\u001b[39m\"\u001b[39m)\n\u001b[0;32m    591\u001b[0m \u001b[39m# apply actual function\u001b[39;00m\n\u001b[1;32m--> 592\u001b[0m out: Union[\u001b[39m\"\u001b[39m\u001b[39mDataset\u001b[39m\u001b[39m\"\u001b[39m, \u001b[39m\"\u001b[39m\u001b[39mDatasetDict\u001b[39m\u001b[39m\"\u001b[39m] \u001b[39m=\u001b[39m func(\u001b[39mself\u001b[39;49m, \u001b[39m*\u001b[39;49margs, \u001b[39m*\u001b[39;49m\u001b[39m*\u001b[39;49mkwargs)\n\u001b[0;32m    593\u001b[0m datasets: List[\u001b[39m\"\u001b[39m\u001b[39mDataset\u001b[39m\u001b[39m\"\u001b[39m] \u001b[39m=\u001b[39m \u001b[39mlist\u001b[39m(out\u001b[39m.\u001b[39mvalues()) \u001b[39mif\u001b[39;00m \u001b[39misinstance\u001b[39m(out, \u001b[39mdict\u001b[39m) \u001b[39melse\u001b[39;00m [out]\n\u001b[0;32m    594\u001b[0m \u001b[39mfor\u001b[39;00m dataset \u001b[39min\u001b[39;00m datasets:\n\u001b[0;32m    595\u001b[0m     \u001b[39m# Remove task templates if a column mapping of the template is no longer valid\u001b[39;00m\n",
      "File \u001b[1;32mc:\\Users\\tihol\\Projects\\PyProjects\\BySearch\\.venv\\Lib\\site-packages\\datasets\\arrow_dataset.py:557\u001b[0m, in \u001b[0;36mtransmit_format.<locals>.wrapper\u001b[1;34m(*args, **kwargs)\u001b[0m\n\u001b[0;32m    550\u001b[0m self_format \u001b[39m=\u001b[39m {\n\u001b[0;32m    551\u001b[0m     \u001b[39m\"\u001b[39m\u001b[39mtype\u001b[39m\u001b[39m\"\u001b[39m: \u001b[39mself\u001b[39m\u001b[39m.\u001b[39m_format_type,\n\u001b[0;32m    552\u001b[0m     \u001b[39m\"\u001b[39m\u001b[39mformat_kwargs\u001b[39m\u001b[39m\"\u001b[39m: \u001b[39mself\u001b[39m\u001b[39m.\u001b[39m_format_kwargs,\n\u001b[0;32m    553\u001b[0m     \u001b[39m\"\u001b[39m\u001b[39mcolumns\u001b[39m\u001b[39m\"\u001b[39m: \u001b[39mself\u001b[39m\u001b[39m.\u001b[39m_format_columns,\n\u001b[0;32m    554\u001b[0m     \u001b[39m\"\u001b[39m\u001b[39moutput_all_columns\u001b[39m\u001b[39m\"\u001b[39m: \u001b[39mself\u001b[39m\u001b[39m.\u001b[39m_output_all_columns,\n\u001b[0;32m    555\u001b[0m }\n\u001b[0;32m    556\u001b[0m \u001b[39m# apply actual function\u001b[39;00m\n\u001b[1;32m--> 557\u001b[0m out: Union[\u001b[39m\"\u001b[39m\u001b[39mDataset\u001b[39m\u001b[39m\"\u001b[39m, \u001b[39m\"\u001b[39m\u001b[39mDatasetDict\u001b[39m\u001b[39m\"\u001b[39m] \u001b[39m=\u001b[39m func(\u001b[39mself\u001b[39;49m, \u001b[39m*\u001b[39;49margs, \u001b[39m*\u001b[39;49m\u001b[39m*\u001b[39;49mkwargs)\n\u001b[0;32m    558\u001b[0m datasets: List[\u001b[39m\"\u001b[39m\u001b[39mDataset\u001b[39m\u001b[39m\"\u001b[39m] \u001b[39m=\u001b[39m \u001b[39mlist\u001b[39m(out\u001b[39m.\u001b[39mvalues()) \u001b[39mif\u001b[39;00m \u001b[39misinstance\u001b[39m(out, \u001b[39mdict\u001b[39m) \u001b[39melse\u001b[39;00m [out]\n\u001b[0;32m    559\u001b[0m \u001b[39m# re-apply format to the output\u001b[39;00m\n",
      "File \u001b[1;32mc:\\Users\\tihol\\Projects\\PyProjects\\BySearch\\.venv\\Lib\\site-packages\\datasets\\arrow_dataset.py:3097\u001b[0m, in \u001b[0;36mDataset.map\u001b[1;34m(self, function, with_indices, with_rank, input_columns, batched, batch_size, drop_last_batch, remove_columns, keep_in_memory, load_from_cache_file, cache_file_name, writer_batch_size, features, disable_nullable, fn_kwargs, num_proc, suffix_template, new_fingerprint, desc)\u001b[0m\n\u001b[0;32m   3090\u001b[0m \u001b[39mif\u001b[39;00m transformed_dataset \u001b[39mis\u001b[39;00m \u001b[39mNone\u001b[39;00m:\n\u001b[0;32m   3091\u001b[0m     \u001b[39mwith\u001b[39;00m logging\u001b[39m.\u001b[39mtqdm(\n\u001b[0;32m   3092\u001b[0m         disable\u001b[39m=\u001b[39m\u001b[39mnot\u001b[39;00m logging\u001b[39m.\u001b[39mis_progress_bar_enabled(),\n\u001b[0;32m   3093\u001b[0m         unit\u001b[39m=\u001b[39m\u001b[39m\"\u001b[39m\u001b[39m examples\u001b[39m\u001b[39m\"\u001b[39m,\n\u001b[0;32m   3094\u001b[0m         total\u001b[39m=\u001b[39mpbar_total,\n\u001b[0;32m   3095\u001b[0m         desc\u001b[39m=\u001b[39mdesc \u001b[39mor\u001b[39;00m \u001b[39m\"\u001b[39m\u001b[39mMap\u001b[39m\u001b[39m\"\u001b[39m,\n\u001b[0;32m   3096\u001b[0m     ) \u001b[39mas\u001b[39;00m pbar:\n\u001b[1;32m-> 3097\u001b[0m         \u001b[39mfor\u001b[39;49;00m rank, done, content \u001b[39min\u001b[39;49;00m Dataset\u001b[39m.\u001b[39;49m_map_single(\u001b[39m*\u001b[39;49m\u001b[39m*\u001b[39;49mdataset_kwargs):\n\u001b[0;32m   3098\u001b[0m             \u001b[39mif\u001b[39;49;00m done:\n\u001b[0;32m   3099\u001b[0m                 shards_done \u001b[39m+\u001b[39;49m\u001b[39m=\u001b[39;49m \u001b[39m1\u001b[39;49m\n",
      "File \u001b[1;32mc:\\Users\\tihol\\Projects\\PyProjects\\BySearch\\.venv\\Lib\\site-packages\\datasets\\arrow_dataset.py:3474\u001b[0m, in \u001b[0;36mDataset._map_single\u001b[1;34m(shard, function, with_indices, with_rank, input_columns, batched, batch_size, drop_last_batch, remove_columns, keep_in_memory, cache_file_name, writer_batch_size, features, disable_nullable, fn_kwargs, new_fingerprint, rank, offset)\u001b[0m\n\u001b[0;32m   3470\u001b[0m indices \u001b[39m=\u001b[39m \u001b[39mlist\u001b[39m(\n\u001b[0;32m   3471\u001b[0m     \u001b[39mrange\u001b[39m(\u001b[39m*\u001b[39m(\u001b[39mslice\u001b[39m(i, i \u001b[39m+\u001b[39m batch_size)\u001b[39m.\u001b[39mindices(shard\u001b[39m.\u001b[39mnum_rows)))\n\u001b[0;32m   3472\u001b[0m )  \u001b[39m# Something simpler?\u001b[39;00m\n\u001b[0;32m   3473\u001b[0m \u001b[39mtry\u001b[39;00m:\n\u001b[1;32m-> 3474\u001b[0m     batch \u001b[39m=\u001b[39m apply_function_on_filtered_inputs(\n\u001b[0;32m   3475\u001b[0m         batch,\n\u001b[0;32m   3476\u001b[0m         indices,\n\u001b[0;32m   3477\u001b[0m         check_same_num_examples\u001b[39m=\u001b[39;49m\u001b[39mlen\u001b[39;49m(shard\u001b[39m.\u001b[39;49mlist_indexes()) \u001b[39m>\u001b[39;49m \u001b[39m0\u001b[39;49m,\n\u001b[0;32m   3478\u001b[0m         offset\u001b[39m=\u001b[39;49moffset,\n\u001b[0;32m   3479\u001b[0m     )\n\u001b[0;32m   3480\u001b[0m \u001b[39mexcept\u001b[39;00m NumExamplesMismatchError:\n\u001b[0;32m   3481\u001b[0m     \u001b[39mraise\u001b[39;00m DatasetTransformationNotAllowedError(\n\u001b[0;32m   3482\u001b[0m         \u001b[39m\"\u001b[39m\u001b[39mUsing `.map` in batched mode on a dataset with attached indexes is allowed only if it doesn\u001b[39m\u001b[39m'\u001b[39m\u001b[39mt create or remove existing examples. You can first run `.drop_index() to remove your index and then re-add it.\u001b[39m\u001b[39m\"\u001b[39m\n\u001b[0;32m   3483\u001b[0m     ) \u001b[39mfrom\u001b[39;00m \u001b[39mNone\u001b[39;00m\n",
      "File \u001b[1;32mc:\\Users\\tihol\\Projects\\PyProjects\\BySearch\\.venv\\Lib\\site-packages\\datasets\\arrow_dataset.py:3353\u001b[0m, in \u001b[0;36mDataset._map_single.<locals>.apply_function_on_filtered_inputs\u001b[1;34m(pa_inputs, indices, check_same_num_examples, offset)\u001b[0m\n\u001b[0;32m   3351\u001b[0m \u001b[39mif\u001b[39;00m with_rank:\n\u001b[0;32m   3352\u001b[0m     additional_args \u001b[39m+\u001b[39m\u001b[39m=\u001b[39m (rank,)\n\u001b[1;32m-> 3353\u001b[0m processed_inputs \u001b[39m=\u001b[39m function(\u001b[39m*\u001b[39;49mfn_args, \u001b[39m*\u001b[39;49madditional_args, \u001b[39m*\u001b[39;49m\u001b[39m*\u001b[39;49mfn_kwargs)\n\u001b[0;32m   3354\u001b[0m \u001b[39mif\u001b[39;00m \u001b[39misinstance\u001b[39m(processed_inputs, LazyDict):\n\u001b[0;32m   3355\u001b[0m     processed_inputs \u001b[39m=\u001b[39m {\n\u001b[0;32m   3356\u001b[0m         k: v \u001b[39mfor\u001b[39;00m k, v \u001b[39min\u001b[39;00m processed_inputs\u001b[39m.\u001b[39mdata\u001b[39m.\u001b[39mitems() \u001b[39mif\u001b[39;00m k \u001b[39mnot\u001b[39;00m \u001b[39min\u001b[39;00m processed_inputs\u001b[39m.\u001b[39mkeys_to_format\n\u001b[0;32m   3357\u001b[0m     }\n",
      "File \u001b[1;32mc:\\Users\\tihol\\Projects\\PyProjects\\BySearch\\bysearch\\engine.py:23\u001b[0m, in \u001b[0;36mEngine.load_dataset.<locals>.<lambda>\u001b[1;34m(x)\u001b[0m\n\u001b[0;32m     20\u001b[0m \u001b[39m# Compute embeddings from text column if necessary \u001b[39;00m\n\u001b[0;32m     21\u001b[0m \u001b[39mif\u001b[39;00m compute_embeddings:\n\u001b[0;32m     22\u001b[0m     dataset \u001b[39m=\u001b[39m dataset\u001b[39m.\u001b[39mmap(\n\u001b[1;32m---> 23\u001b[0m         \u001b[39mlambda\u001b[39;00m x: {\u001b[39m\"\u001b[39m\u001b[39membedding\u001b[39m\u001b[39m\"\u001b[39m: \u001b[39mself\u001b[39;49m\u001b[39m.\u001b[39;49mpipeline(x[\u001b[39mself\u001b[39;49m\u001b[39m.\u001b[39;49mbackend\u001b[39m.\u001b[39;49mtext_column_name])}, \n\u001b[0;32m     24\u001b[0m         batched\u001b[39m=\u001b[39m\u001b[39mTrue\u001b[39;00m,\n\u001b[0;32m     25\u001b[0m         batch_size\u001b[39m=\u001b[39mbatch_size,\n\u001b[0;32m     26\u001b[0m     )\n\u001b[0;32m     27\u001b[0m \u001b[39mreturn\u001b[39;00m dataset\n",
      "File \u001b[1;32mc:\\Users\\tihol\\Projects\\PyProjects\\BySearch\\bysearch\\pipelines.py:130\u001b[0m, in \u001b[0;36mONNXPipeline.__call__\u001b[1;34m(self, text_list)\u001b[0m\n\u001b[0;32m    128\u001b[0m encoded_input \u001b[39m=\u001b[39m {k: v\u001b[39m.\u001b[39mastype(dtype\u001b[39m=\u001b[39mnp\u001b[39m.\u001b[39mint64) \u001b[39mfor\u001b[39;00m k, v \u001b[39min\u001b[39;00m encoded_input\u001b[39m.\u001b[39mitems()}\n\u001b[0;32m    129\u001b[0m \u001b[39m# TODO outputs unpacking \u001b[39;00m\n\u001b[1;32m--> 130\u001b[0m last_hidden_states \u001b[39m=\u001b[39m \u001b[39mself\u001b[39;49m\u001b[39m.\u001b[39;49monnx_model\u001b[39m.\u001b[39;49mrun(\u001b[39mNone\u001b[39;49;00m, input_feed\u001b[39m=\u001b[39;49m\u001b[39mdict\u001b[39;49m(encoded_input))[\u001b[39m0\u001b[39m]\n\u001b[0;32m    131\u001b[0m \u001b[39m# Aggregate all cls token last hidden states by texts \u001b[39;00m\n\u001b[0;32m    132\u001b[0m aggregated_cls_embeddings \u001b[39m=\u001b[39m aggregate_embeddings(last_hidden_states, last_hidden_state_to_text\u001b[39m=\u001b[39msample_to_text)\n",
      "File \u001b[1;32mc:\\Users\\tihol\\Projects\\PyProjects\\BySearch\\.venv\\Lib\\site-packages\\onnxruntime\\capi\\onnxruntime_inference_collection.py:220\u001b[0m, in \u001b[0;36mSession.run\u001b[1;34m(self, output_names, input_feed, run_options)\u001b[0m\n\u001b[0;32m    218\u001b[0m     output_names \u001b[39m=\u001b[39m [output\u001b[39m.\u001b[39mname \u001b[39mfor\u001b[39;00m output \u001b[39min\u001b[39;00m \u001b[39mself\u001b[39m\u001b[39m.\u001b[39m_outputs_meta]\n\u001b[0;32m    219\u001b[0m \u001b[39mtry\u001b[39;00m:\n\u001b[1;32m--> 220\u001b[0m     \u001b[39mreturn\u001b[39;00m \u001b[39mself\u001b[39;49m\u001b[39m.\u001b[39;49m_sess\u001b[39m.\u001b[39;49mrun(output_names, input_feed, run_options)\n\u001b[0;32m    221\u001b[0m \u001b[39mexcept\u001b[39;00m C\u001b[39m.\u001b[39mEPFail \u001b[39mas\u001b[39;00m err:\n\u001b[0;32m    222\u001b[0m     \u001b[39mif\u001b[39;00m \u001b[39mself\u001b[39m\u001b[39m.\u001b[39m_enable_fallback:\n",
      "\u001b[1;31mKeyboardInterrupt\u001b[0m: "
     ]
    }
   ],
   "source": [
    "# Загружаем данные в формате Hugging Face Dataset и добавляем поле ID.\n",
    "# Уникальным идентификатором в текста может быть любое уникальное поле из его metadata,\n",
    "# однако некоторые хранилища, в частности Pinecone, имеют ограничения по длине поля уникального идентификатора.\n",
    "dataset = load_dataset('mc4', 'be', split='validation')\n",
    "dataset = dataset.add_column('id', list(range(len(dataset))))\n",
    "# Собираем Engine из выбранных пайплайна и бекенда,\n",
    "# а также передаем загружаемый корпус текстов в параметр dataset.\n",
    "# Параметр dataset не является обязательным при инициализации Engine, \n",
    "# корпус текстов может быть загружен отдельно с помощью метода upsert.\n",
    "search = Engine(dataset=dataset, pipeline=pipeline, backend=backend)"
   ]
  },
  {
   "cell_type": "markdown",
   "metadata": {},
   "source": [
    "Осуществим поиск по запросу. Результаты поиска возвращаются в Pandas DataFrame в формате (score, поле уникального идентификатора, текст, все остальные поля)."
   ]
  },
  {
   "cell_type": "code",
   "execution_count": 5,
   "metadata": {},
   "outputs": [
    {
     "data": {
      "text/html": [
       "<div>\n",
       "<style scoped>\n",
       "    .dataframe tbody tr th:only-of-type {\n",
       "        vertical-align: middle;\n",
       "    }\n",
       "\n",
       "    .dataframe tbody tr th {\n",
       "        vertical-align: top;\n",
       "    }\n",
       "\n",
       "    .dataframe thead th {\n",
       "        text-align: right;\n",
       "    }\n",
       "</style>\n",
       "<table border=\"1\" class=\"dataframe\">\n",
       "  <thead>\n",
       "    <tr style=\"text-align: right;\">\n",
       "      <th></th>\n",
       "      <th>score</th>\n",
       "      <th>id</th>\n",
       "      <th>text</th>\n",
       "      <th>timestamp</th>\n",
       "      <th>url</th>\n",
       "    </tr>\n",
       "  </thead>\n",
       "  <tbody>\n",
       "    <tr>\n",
       "      <th>0</th>\n",
       "      <td>6.629228</td>\n",
       "      <td>1656</td>\n",
       "      <td>﻿ Новыя паступленні музея імя Суворава | А. М....</td>\n",
       "      <td>2017-08-18T16:34:45Z</td>\n",
       "      <td>http://ikobrin.ru/martinov-52.php</td>\n",
       "    </tr>\n",
       "    <tr>\n",
       "      <th>1</th>\n",
       "      <td>6.785421</td>\n",
       "      <td>901</td>\n",
       "      <td>﻿ Стаўленне да вайны — характарыстыка духоўнас...</td>\n",
       "      <td>2020-08-04T17:20:46Z</td>\n",
       "      <td>http://zviazda.by/be/news/20150508/1431035548-...</td>\n",
       "    </tr>\n",
       "    <tr>\n",
       "      <th>2</th>\n",
       "      <td>6.891847</td>\n",
       "      <td>77</td>\n",
       "      <td>Мікалай Якаўлевіч Нікіфароўскі — Вікіпедыя\\nМі...</td>\n",
       "      <td>2020-08-03T21:55:48Z</td>\n",
       "      <td>https://be.m.wikipedia.org/wiki/%D0%9C%D1%96%D...</td>\n",
       "    </tr>\n",
       "    <tr>\n",
       "      <th>3</th>\n",
       "      <td>7.098675</td>\n",
       "      <td>344</td>\n",
       "      <td>Арлоў Уладзімір, Айчына, частка першая - Белар...</td>\n",
       "      <td>2019-11-12T09:06:47Z</td>\n",
       "      <td>http://ww.w.kamunikat.org/katalohbht.html?pub_...</td>\n",
       "    </tr>\n",
       "    <tr>\n",
       "      <th>4</th>\n",
       "      <td>7.118645</td>\n",
       "      <td>1473</td>\n",
       "      <td>\"Беларусь 3\" ушануе памяць Валерыя Чкалава | Б...</td>\n",
       "      <td>2019-02-24T06:42:12Z</td>\n",
       "      <td>http://3belarus.by/be/news/belarus-3-ushanue-p...</td>\n",
       "    </tr>\n",
       "  </tbody>\n",
       "</table>\n",
       "</div>"
      ],
      "text/plain": [
       "      score    id                                               text  \\\n",
       "0  6.629228  1656  ﻿ Новыя паступленні музея імя Суворава | А. М....   \n",
       "1  6.785421   901  ﻿ Стаўленне да вайны — характарыстыка духоўнас...   \n",
       "2  6.891847    77  Мікалай Якаўлевіч Нікіфароўскі — Вікіпедыя\\nМі...   \n",
       "3  7.098675   344  Арлоў Уладзімір, Айчына, частка першая - Белар...   \n",
       "4  7.118645  1473  \"Беларусь 3\" ушануе памяць Валерыя Чкалава | Б...   \n",
       "\n",
       "              timestamp                                                url  \n",
       "0  2017-08-18T16:34:45Z                  http://ikobrin.ru/martinov-52.php  \n",
       "1  2020-08-04T17:20:46Z  http://zviazda.by/be/news/20150508/1431035548-...  \n",
       "2  2020-08-03T21:55:48Z  https://be.m.wikipedia.org/wiki/%D0%9C%D1%96%D...  \n",
       "3  2019-11-12T09:06:47Z  http://ww.w.kamunikat.org/katalohbht.html?pub_...  \n",
       "4  2019-02-24T06:42:12Z  http://3belarus.by/be/news/belarus-3-ushanue-p...  "
      ]
     },
     "execution_count": 5,
     "metadata": {},
     "output_type": "execute_result"
    }
   ],
   "source": [
    "rez = search.search('аповесць беларускага пісьменніка Уладзіміра Караткевіча', verbose=False)\n",
    "rez"
   ]
  },
  {
   "cell_type": "markdown",
   "metadata": {},
   "source": [
    "Удалим полученные результаты из хранилища и повторим поиск по идентичному запросу.\n",
    "\n",
    "Предупреждение: Облачный бекенд Pinecone имеет некоторую задержку обновления хранилища, по этой причине результаты операций с хранилищем Pinecone могут быть доступны не сразу."
   ]
  },
  {
   "cell_type": "code",
   "execution_count": 6,
   "metadata": {},
   "outputs": [
    {
     "data": {
      "text/html": [
       "<div>\n",
       "<style scoped>\n",
       "    .dataframe tbody tr th:only-of-type {\n",
       "        vertical-align: middle;\n",
       "    }\n",
       "\n",
       "    .dataframe tbody tr th {\n",
       "        vertical-align: top;\n",
       "    }\n",
       "\n",
       "    .dataframe thead th {\n",
       "        text-align: right;\n",
       "    }\n",
       "</style>\n",
       "<table border=\"1\" class=\"dataframe\">\n",
       "  <thead>\n",
       "    <tr style=\"text-align: right;\">\n",
       "      <th></th>\n",
       "      <th>score</th>\n",
       "      <th>id</th>\n",
       "      <th>text</th>\n",
       "      <th>timestamp</th>\n",
       "      <th>url</th>\n",
       "    </tr>\n",
       "  </thead>\n",
       "  <tbody>\n",
       "    <tr>\n",
       "      <th>0</th>\n",
       "      <td>6.629228</td>\n",
       "      <td>1656</td>\n",
       "      <td>﻿ Новыя паступленні музея імя Суворава | А. М....</td>\n",
       "      <td>2017-08-18T16:34:45Z</td>\n",
       "      <td>http://ikobrin.ru/martinov-52.php</td>\n",
       "    </tr>\n",
       "    <tr>\n",
       "      <th>1</th>\n",
       "      <td>6.785421</td>\n",
       "      <td>901</td>\n",
       "      <td>﻿ Стаўленне да вайны — характарыстыка духоўнас...</td>\n",
       "      <td>2020-08-04T17:20:46Z</td>\n",
       "      <td>http://zviazda.by/be/news/20150508/1431035548-...</td>\n",
       "    </tr>\n",
       "    <tr>\n",
       "      <th>2</th>\n",
       "      <td>6.891847</td>\n",
       "      <td>77</td>\n",
       "      <td>Мікалай Якаўлевіч Нікіфароўскі — Вікіпедыя\\nМі...</td>\n",
       "      <td>2020-08-03T21:55:48Z</td>\n",
       "      <td>https://be.m.wikipedia.org/wiki/%D0%9C%D1%96%D...</td>\n",
       "    </tr>\n",
       "    <tr>\n",
       "      <th>3</th>\n",
       "      <td>7.098675</td>\n",
       "      <td>344</td>\n",
       "      <td>Арлоў Уладзімір, Айчына, частка першая - Белар...</td>\n",
       "      <td>2019-11-12T09:06:47Z</td>\n",
       "      <td>http://ww.w.kamunikat.org/katalohbht.html?pub_...</td>\n",
       "    </tr>\n",
       "    <tr>\n",
       "      <th>4</th>\n",
       "      <td>7.118645</td>\n",
       "      <td>1473</td>\n",
       "      <td>\"Беларусь 3\" ушануе памяць Валерыя Чкалава | Б...</td>\n",
       "      <td>2019-02-24T06:42:12Z</td>\n",
       "      <td>http://3belarus.by/be/news/belarus-3-ushanue-p...</td>\n",
       "    </tr>\n",
       "  </tbody>\n",
       "</table>\n",
       "</div>"
      ],
      "text/plain": [
       "      score    id                                               text  \\\n",
       "0  6.629228  1656  ﻿ Новыя паступленні музея імя Суворава | А. М....   \n",
       "1  6.785421   901  ﻿ Стаўленне да вайны — характарыстыка духоўнас...   \n",
       "2  6.891847    77  Мікалай Якаўлевіч Нікіфароўскі — Вікіпедыя\\nМі...   \n",
       "3  7.098675   344  Арлоў Уладзімір, Айчына, частка першая - Белар...   \n",
       "4  7.118645  1473  \"Беларусь 3\" ушануе памяць Валерыя Чкалава | Б...   \n",
       "\n",
       "              timestamp                                                url  \n",
       "0  2017-08-18T16:34:45Z                  http://ikobrin.ru/martinov-52.php  \n",
       "1  2020-08-04T17:20:46Z  http://zviazda.by/be/news/20150508/1431035548-...  \n",
       "2  2020-08-03T21:55:48Z  https://be.m.wikipedia.org/wiki/%D0%9C%D1%96%D...  \n",
       "3  2019-11-12T09:06:47Z  http://ww.w.kamunikat.org/katalohbht.html?pub_...  \n",
       "4  2019-02-24T06:42:12Z  http://3belarus.by/be/news/belarus-3-ushanue-p...  "
      ]
     },
     "execution_count": 6,
     "metadata": {},
     "output_type": "execute_result"
    }
   ],
   "source": [
    "search.delete(rez['id'].tolist())\n",
    "rez = search.search('аповесць беларускага пісьменніка Уладзіміра Караткевіча', verbose=False)\n",
    "rez"
   ]
  },
  {
   "cell_type": "markdown",
   "metadata": {},
   "source": [
    "Загрузим в хранилище копию корпуса текстов."
   ]
  },
  {
   "cell_type": "code",
   "execution_count": 7,
   "metadata": {},
   "outputs": [
    {
     "data": {
      "application/vnd.jupyter.widget-view+json": {
       "model_id": "b53edc3334a949ba835ae1d1df6f0c02",
       "version_major": 2,
       "version_minor": 0
      },
      "text/plain": [
       "Map:   0%|          | 0/1712 [00:00<?, ? examples/s]"
      ]
     },
     "metadata": {},
     "output_type": "display_data"
    },
    {
     "data": {
      "application/vnd.jupyter.widget-view+json": {
       "model_id": "9edd8b26e3a242b4ace249339e9bd4bb",
       "version_major": 2,
       "version_minor": 0
      },
      "text/plain": [
       "  0%|          | 0/4 [00:00<?, ?it/s]"
      ]
     },
     "metadata": {},
     "output_type": "display_data"
    },
    {
     "data": {
      "text/html": [
       "<div>\n",
       "<style scoped>\n",
       "    .dataframe tbody tr th:only-of-type {\n",
       "        vertical-align: middle;\n",
       "    }\n",
       "\n",
       "    .dataframe tbody tr th {\n",
       "        vertical-align: top;\n",
       "    }\n",
       "\n",
       "    .dataframe thead th {\n",
       "        text-align: right;\n",
       "    }\n",
       "</style>\n",
       "<table border=\"1\" class=\"dataframe\">\n",
       "  <thead>\n",
       "    <tr style=\"text-align: right;\">\n",
       "      <th></th>\n",
       "      <th>score</th>\n",
       "      <th>id</th>\n",
       "      <th>text</th>\n",
       "      <th>timestamp</th>\n",
       "      <th>url</th>\n",
       "    </tr>\n",
       "  </thead>\n",
       "  <tbody>\n",
       "    <tr>\n",
       "      <th>0</th>\n",
       "      <td>6.629228</td>\n",
       "      <td>1656</td>\n",
       "      <td>﻿ Новыя паступленні музея імя Суворава | А. М....</td>\n",
       "      <td>2017-08-18T16:34:45Z</td>\n",
       "      <td>http://ikobrin.ru/martinov-52.php</td>\n",
       "    </tr>\n",
       "    <tr>\n",
       "      <th>1</th>\n",
       "      <td>6.629228</td>\n",
       "      <td>1656</td>\n",
       "      <td>﻿ Новыя паступленні музея імя Суворава | А. М....</td>\n",
       "      <td>2017-08-18T16:34:45Z</td>\n",
       "      <td>http://ikobrin.ru/martinov-52.php</td>\n",
       "    </tr>\n",
       "    <tr>\n",
       "      <th>2</th>\n",
       "      <td>6.785421</td>\n",
       "      <td>901</td>\n",
       "      <td>﻿ Стаўленне да вайны — характарыстыка духоўнас...</td>\n",
       "      <td>2020-08-04T17:20:46Z</td>\n",
       "      <td>http://zviazda.by/be/news/20150508/1431035548-...</td>\n",
       "    </tr>\n",
       "    <tr>\n",
       "      <th>3</th>\n",
       "      <td>6.785421</td>\n",
       "      <td>901</td>\n",
       "      <td>﻿ Стаўленне да вайны — характарыстыка духоўнас...</td>\n",
       "      <td>2020-08-04T17:20:46Z</td>\n",
       "      <td>http://zviazda.by/be/news/20150508/1431035548-...</td>\n",
       "    </tr>\n",
       "    <tr>\n",
       "      <th>4</th>\n",
       "      <td>6.891847</td>\n",
       "      <td>77</td>\n",
       "      <td>Мікалай Якаўлевіч Нікіфароўскі — Вікіпедыя\\nМі...</td>\n",
       "      <td>2020-08-03T21:55:48Z</td>\n",
       "      <td>https://be.m.wikipedia.org/wiki/%D0%9C%D1%96%D...</td>\n",
       "    </tr>\n",
       "    <tr>\n",
       "      <th>5</th>\n",
       "      <td>6.891847</td>\n",
       "      <td>77</td>\n",
       "      <td>Мікалай Якаўлевіч Нікіфароўскі — Вікіпедыя\\nМі...</td>\n",
       "      <td>2020-08-03T21:55:48Z</td>\n",
       "      <td>https://be.m.wikipedia.org/wiki/%D0%9C%D1%96%D...</td>\n",
       "    </tr>\n",
       "    <tr>\n",
       "      <th>6</th>\n",
       "      <td>7.098675</td>\n",
       "      <td>344</td>\n",
       "      <td>Арлоў Уладзімір, Айчына, частка першая - Белар...</td>\n",
       "      <td>2019-11-12T09:06:47Z</td>\n",
       "      <td>http://ww.w.kamunikat.org/katalohbht.html?pub_...</td>\n",
       "    </tr>\n",
       "    <tr>\n",
       "      <th>7</th>\n",
       "      <td>7.098675</td>\n",
       "      <td>344</td>\n",
       "      <td>Арлоў Уладзімір, Айчына, частка першая - Белар...</td>\n",
       "      <td>2019-11-12T09:06:47Z</td>\n",
       "      <td>http://ww.w.kamunikat.org/katalohbht.html?pub_...</td>\n",
       "    </tr>\n",
       "    <tr>\n",
       "      <th>8</th>\n",
       "      <td>7.118645</td>\n",
       "      <td>1473</td>\n",
       "      <td>\"Беларусь 3\" ушануе памяць Валерыя Чкалава | Б...</td>\n",
       "      <td>2019-02-24T06:42:12Z</td>\n",
       "      <td>http://3belarus.by/be/news/belarus-3-ushanue-p...</td>\n",
       "    </tr>\n",
       "    <tr>\n",
       "      <th>9</th>\n",
       "      <td>7.118645</td>\n",
       "      <td>1473</td>\n",
       "      <td>\"Беларусь 3\" ушануе памяць Валерыя Чкалава | Б...</td>\n",
       "      <td>2019-02-24T06:42:12Z</td>\n",
       "      <td>http://3belarus.by/be/news/belarus-3-ushanue-p...</td>\n",
       "    </tr>\n",
       "  </tbody>\n",
       "</table>\n",
       "</div>"
      ],
      "text/plain": [
       "      score    id                                               text  \\\n",
       "0  6.629228  1656  ﻿ Новыя паступленні музея імя Суворава | А. М....   \n",
       "1  6.629228  1656  ﻿ Новыя паступленні музея імя Суворава | А. М....   \n",
       "2  6.785421   901  ﻿ Стаўленне да вайны — характарыстыка духоўнас...   \n",
       "3  6.785421   901  ﻿ Стаўленне да вайны — характарыстыка духоўнас...   \n",
       "4  6.891847    77  Мікалай Якаўлевіч Нікіфароўскі — Вікіпедыя\\nМі...   \n",
       "5  6.891847    77  Мікалай Якаўлевіч Нікіфароўскі — Вікіпедыя\\nМі...   \n",
       "6  7.098675   344  Арлоў Уладзімір, Айчына, частка першая - Белар...   \n",
       "7  7.098675   344  Арлоў Уладзімір, Айчына, частка першая - Белар...   \n",
       "8  7.118645  1473  \"Беларусь 3\" ушануе памяць Валерыя Чкалава | Б...   \n",
       "9  7.118645  1473  \"Беларусь 3\" ушануе памяць Валерыя Чкалава | Б...   \n",
       "\n",
       "              timestamp                                                url  \n",
       "0  2017-08-18T16:34:45Z                  http://ikobrin.ru/martinov-52.php  \n",
       "1  2017-08-18T16:34:45Z                  http://ikobrin.ru/martinov-52.php  \n",
       "2  2020-08-04T17:20:46Z  http://zviazda.by/be/news/20150508/1431035548-...  \n",
       "3  2020-08-04T17:20:46Z  http://zviazda.by/be/news/20150508/1431035548-...  \n",
       "4  2020-08-03T21:55:48Z  https://be.m.wikipedia.org/wiki/%D0%9C%D1%96%D...  \n",
       "5  2020-08-03T21:55:48Z  https://be.m.wikipedia.org/wiki/%D0%9C%D1%96%D...  \n",
       "6  2019-11-12T09:06:47Z  http://ww.w.kamunikat.org/katalohbht.html?pub_...  \n",
       "7  2019-11-12T09:06:47Z  http://ww.w.kamunikat.org/katalohbht.html?pub_...  \n",
       "8  2019-02-24T06:42:12Z  http://3belarus.by/be/news/belarus-3-ushanue-p...  \n",
       "9  2019-02-24T06:42:12Z  http://3belarus.by/be/news/belarus-3-ushanue-p...  "
      ]
     },
     "execution_count": 7,
     "metadata": {},
     "output_type": "execute_result"
    }
   ],
   "source": [
    "# Создаем копию данных в формате Hugging Face Dataset и добавляем поле ID.\n",
    "new_dataset = load_dataset('mc4', 'be', split='validation')\n",
    "new_dataset = new_dataset.add_column('id', list(range(len(dataset))))\n",
    "# Метод upsert осуществляет обновление или вставку данных из параметра dataset в хранилище. \n",
    "search.upsert(dataset=new_dataset)\n",
    "rez = search.search('аповесць беларускага пісьменніка Уладзіміра Караткевіча', verbose=False, k=10)\n",
    "rez"
   ]
  },
  {
   "cell_type": "markdown",
   "metadata": {},
   "source": [
    "Как можно убедиться, удаленные тексты вновь появились в хранилище, а уже хранимые тексты избежали дублирования."
   ]
  }
 ],
 "metadata": {
  "kernelspec": {
   "display_name": ".venv",
   "language": "python",
   "name": "python3"
  },
  "language_info": {
   "codemirror_mode": {
    "name": "ipython",
    "version": 3
   },
   "file_extension": ".py",
   "mimetype": "text/x-python",
   "name": "python",
   "nbconvert_exporter": "python",
   "pygments_lexer": "ipython3",
   "version": "3.11.6"
  }
 },
 "nbformat": 4,
 "nbformat_minor": 2
}
